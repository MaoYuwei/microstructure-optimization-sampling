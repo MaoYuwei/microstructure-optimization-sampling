{
 "cells": [
  {
   "cell_type": "code",
   "execution_count": 14,
   "metadata": {
    "collapsed": false
   },
   "outputs": [],
   "source": [
    "\n",
    "import pyOpt\n",
    "from pyOpt import Optimization"
   ]
  },
  {
   "cell_type": "markdown",
   "metadata": {},
   "source": [
    "## <font color=\"red\">Setting up an Optimization Problem</font>"
   ]
  },
  {
   "cell_type": "code",
   "execution_count": 4,
   "metadata": {
    "collapsed": true
   },
   "outputs": [],
   "source": [
    "def objfunc(x):\n",
    "\n",
    "  f = -x[0]*x[1]*x[2]\n",
    "  g = [0.0]*2\n",
    "  g[0] = x[0] + 2.*x[1] + 2.*x[2] - 72.0\n",
    "  g[1] = -x[0] - 2.*x[1] - 2.*x[2]\n",
    "\n",
    "  fail = 0\n",
    "  return f,g, fail"
   ]
  },
  {
   "cell_type": "code",
   "execution_count": 5,
   "metadata": {
    "collapsed": true
   },
   "outputs": [],
   "source": [
    "opt_prob = pyOpt.Optimization('TP37 Constrained Problem',objfunc)\n",
    "opt_prob.addObj('f')"
   ]
  },
  {
   "cell_type": "code",
   "execution_count": 6,
   "metadata": {
    "collapsed": true
   },
   "outputs": [],
   "source": [
    "opt_prob.addVar('x1','c',lower=0.0,upper=42.0,value=10.0)\n",
    "opt_prob.addVar('x2','c',lower=0.0,upper=42.0,value=10.0)\n",
    "opt_prob.addVar('x3','c',lower=0.0,upper=42.0,value=10.0)\n",
    "opt_prob.addConGroup('g',2,'i')"
   ]
  },
  {
   "cell_type": "code",
   "execution_count": 7,
   "metadata": {
    "collapsed": false
   },
   "outputs": [
    {
     "name": "stdout",
     "output_type": "stream",
     "text": [
      "\n",
      "Optimization Problem -- TP37 Constrained Problem\n",
      "================================================================================\n",
      "\n",
      "        Objective Function: objfunc\n",
      "\n",
      "    Objectives:\n",
      "        Name        Value        Optimum\n",
      "\t     f               0             0\n",
      "\n",
      "\tVariables (c - continuous, i - integer, d - discrete):\n",
      "        Name    Type       Value       Lower Bound  Upper Bound\n",
      "\t     x1       c\t     10.000000       0.00e+00     4.20e+01 \n",
      "\t     x2       c\t     10.000000       0.00e+00     4.20e+01 \n",
      "\t     x3       c\t     10.000000       0.00e+00     4.20e+01 \n",
      "\n",
      "\tConstraints (i - inequality, e - equality):\n",
      "        Name    Type                    Bounds\n",
      "\t    g_0   \t  i       -1.00e+21 <= 0.000000 <= 0.00e+00\n",
      "\t    g_1   \t  i       -1.00e+21 <= 0.000000 <= 0.00e+00\n",
      "\n"
     ]
    }
   ],
   "source": [
    " print opt_prob"
   ]
  },
  {
   "cell_type": "markdown",
   "metadata": {},
   "source": [
    "## <font color=\"blue\">Solving an optimization problem</font> "
   ]
  },
  {
   "cell_type": "code",
   "execution_count": 8,
   "metadata": {
    "collapsed": false
   },
   "outputs": [
    {
     "name": "stderr",
     "output_type": "stream",
     "text": [
      "/Users/Arindam/anaconda/lib/python2.7/site-packages/pySLSQP/pySLSQP.py:374: VisibleDeprecationWarning: converting an array with ndim > 0 to an index will result in an error in the future\n",
      "  gg = numpy.zeros([la], numpy.float)\n",
      "/Users/Arindam/anaconda/lib/python2.7/site-packages/pySLSQP/pySLSQP.py:377: VisibleDeprecationWarning: converting an array with ndim > 0 to an index will result in an error in the future\n",
      "  dg = numpy.zeros([la,n+1], numpy.float)\n",
      "/Users/Arindam/anaconda/lib/python2.7/site-packages/pySLSQP/pySLSQP.py:401: VisibleDeprecationWarning: converting an array with ndim > 0 to an index will result in an error in the future\n",
      "  w = numpy.zeros([lw], numpy.float)\n",
      "/Users/Arindam/anaconda/lib/python2.7/site-packages/pySLSQP/pySLSQP.py:404: VisibleDeprecationWarning: converting an array with ndim > 0 to an index will result in an error in the future\n",
      "  jw = numpy.zeros([ljw], numpy.intc)\n"
     ]
    }
   ],
   "source": [
    "from pyOpt import pySLSQP\n",
    "from pySLSQP import SLSQP\n",
    "slsqp = SLSQP()\n",
    "slsqp.setOption('IPRINT', -1)\n",
    "[fstr, xstr, inform] = slsqp(opt_prob,sens_type='FD')"
   ]
  },
  {
   "cell_type": "code",
   "execution_count": 9,
   "metadata": {
    "collapsed": true
   },
   "outputs": [],
   "source": [
    "def objfunc(x):\n",
    "    \n",
    "    f = -x[0]*x[1]*x[2]\n",
    "    g = [0.0]*2\n",
    "    g[0] = x[0] + 2.*x[1] + 2.*x[2] - 72.0\n",
    "    g[1] = -x[0] - 2.*x[1] - 2.*x[2]\n",
    "    \n",
    "    fail = 0\n",
    "    return f,g, fail"
   ]
  },
  {
   "cell_type": "code",
   "execution_count": 16,
   "metadata": {
    "collapsed": false
   },
   "outputs": [
    {
     "name": "stdout",
     "output_type": "stream",
     "text": [
      "\n",
      "Optimization Problem -- TP37 Constrained Problem\n",
      "================================================================================\n",
      "\n",
      "        Objective Function: objfunc\n",
      "\n",
      "    Objectives:\n",
      "        Name        Value        Optimum\n",
      "\t     f               0             0\n",
      "\n",
      "\tVariables (c - continuous, i - integer, d - discrete):\n",
      "        Name    Type       Value       Lower Bound  Upper Bound\n",
      "\t     x1       c\t     10.000000       0.00e+00     4.20e+01 \n",
      "\t     x2       c\t     10.000000       0.00e+00     4.20e+01 \n",
      "\t     x3       c\t     10.000000       0.00e+00     4.20e+01 \n",
      "\n",
      "\tConstraints (i - inequality, e - equality):\n",
      "        Name    Type                    Bounds\n",
      "\t     g1   \t  i       -1.00e+21 <= 0.000000 <= 0.00e+00\n",
      "\t     g2   \t  i       -1.00e+21 <= 0.000000 <= 0.00e+00\n",
      "\n",
      "\n",
      "SLSQP Solution to TP37 Constrained Problem\n",
      "================================================================================\n",
      "\n",
      "        Objective Function: objfunc\n",
      "\n",
      "    Solution: \n",
      "--------------------------------------------------------------------------------\n",
      "    Total Time:                    0.0048\n",
      "    Total Function Evaluations:          \n",
      "    Sensitivities:        FD\n",
      "\n",
      "    Objectives:\n",
      "        Name        Value        Optimum\n",
      "\t     f           -3456             0\n",
      "\n",
      "\tVariables (c - continuous, i - integer, d - discrete):\n",
      "        Name    Type       Value       Lower Bound  Upper Bound\n",
      "\t     x1       c\t     24.000000       0.00e+00     4.20e+01 \n",
      "\t     x2       c\t     12.000000       0.00e+00     4.20e+01 \n",
      "\t     x3       c\t     12.000000       0.00e+00     4.20e+01 \n",
      "\n",
      "\tConstraints (i - inequality, e - equality):\n",
      "        Name    Type                    Bounds\n",
      "\t     g1   \t  i       -1.00e+21 <= 0.000000 <= 0.00e+00\n",
      "\t     g2   \t  i       -1.00e+21 <= -72.000000 <= 0.00e+00\n",
      "\n",
      "--------------------------------------------------------------------------------\n",
      "\n"
     ]
    }
   ],
   "source": [
    "opt_prob = Optimization('TP37 Constrained Problem',objfunc)\n",
    "opt_prob.addVar('x1','c',lower=0.0,upper=42.0,value=10.0)\n",
    "opt_prob.addVar('x2','c',lower=0.0,upper=42.0,value=10.0)\n",
    "opt_prob.addVar('x3','c',lower=0.0,upper=42.0,value=10.0)\n",
    "opt_prob.addObj('f')\n",
    "opt_prob.addCon('g1','i')\n",
    "opt_prob.addCon('g2','i')\n",
    "print opt_prob\n",
    "from pyPSQP import PSQP\n",
    "# Instantiate Optimizer (PSQP) & Solve Problem\n",
    "psqp = SLSQP()\n",
    "psqp.setOption('IPRINT',0)\n",
    "psqp(opt_prob,sens_type='FD')\n",
    "print opt_prob.solution(0)"
   ]
  },
  {
   "cell_type": "markdown",
   "metadata": {},
   "source": [
    "## <font color=\"green\">Setting up Galfenol Problem</font>"
   ]
  },
  {
   "cell_type": "code",
   "execution_count": null,
   "metadata": {
    "collapsed": true
   },
   "outputs": [],
   "source": []
  }
 ],
 "metadata": {
  "anaconda-cloud": {},
  "kernelspec": {
   "display_name": "Python [conda root]",
   "language": "python",
   "name": "conda-root-py"
  },
  "language_info": {
   "codemirror_mode": {
    "name": "ipython",
    "version": 2
   },
   "file_extension": ".py",
   "mimetype": "text/x-python",
   "name": "python",
   "nbconvert_exporter": "python",
   "pygments_lexer": "ipython2",
   "version": "2.7.12"
  }
 },
 "nbformat": 4,
 "nbformat_minor": 1
}
