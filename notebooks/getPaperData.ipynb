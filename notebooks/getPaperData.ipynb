{
 "cells": [
  {
   "cell_type": "code",
   "execution_count": 29,
   "metadata": {
    "collapsed": true
   },
   "outputs": [],
   "source": [
    "%matplotlib inline\n",
    "from scipy.io import loadmat,savemat\n",
    "from math import sqrt\n",
    "from scipy.linalg import *"
   ]
  },
  {
   "cell_type": "markdown",
   "metadata": {},
   "source": [
    "## Declaration of constants and loading files"
   ]
  },
  {
   "cell_type": "code",
   "execution_count": 35,
   "metadata": {
    "collapsed": false
   },
   "outputs": [],
   "source": [
    "data = loadmat('data_pinar/maxOdf_Lower2.mat')\n",
    "odf = data['odf'][0]\n",
    "\n",
    "compliance =loadmat('compliance.mat')['compliance']\n",
    "vf =loadmat('volumefraction.mat')['volumefraction']\n",
    "constraints = loadmat('constraints.mat')\n",
    "stiffness = constraints['stiffness']\n",
    "\n",
    "a = 3;\n",
    "b = 20;\n",
    "L = 0.45; # length of the beam\n",
    "pi = 3.1416\n",
    "\n",
    "beta1 = 0.299;\n",
    "beta2 = 0.312;\n",
    "r1 = 6;\n",
    "r2 = 10;\n",
    "r = 6.67;\n",
    "rat = (10-r)/(r-r1); \n",
    "beta = (beta2+(beta1*rat))/(rat+1);\n",
    "J = beta*a*pow(b,3); # torsion constant for natural frequency\n",
    "# Inertia moment computation\n",
    "Iy = (a*pow(b,3))/12\n",
    "Ix = (b*pow(a,3))/12\n",
    "mass = 5# kg mass\n",
    "Ip = Ix + Iy;  # Polar moment of inertia\n",
    "A = a*b;  # Area of the rectangle cross-section\n",
    "rhop = mass/(A*L);  # Mass per unit volume\n",
    "\n",
    "\n",
    "# Bending Frequency Equations\n",
    "alphaL = 1.87510;"
   ]
  },
  {
   "cell_type": "markdown",
   "metadata": {},
   "source": [
    "## Defining Functions "
   ]
  },
  {
   "cell_type": "code",
   "execution_count": 20,
   "metadata": {
    "collapsed": false
   },
   "outputs": [],
   "source": [
    "def getModulusLower(odf):\n",
    "    compliance_odf = compliance.dot(odf)\n",
    "    S = compliance_odf.reshape(6,6); # Compliance matrix\n",
    "    Ex = 1/S[0,0]; # Young's modulus\n",
    "    Gxy= 1/S[5,5] # Shear modulus\n",
    "    return Ex,Gxy\n",
    "\n",
    "def getModulusUpper(odf):\n",
    "    constraints = loadmat('constraints.mat')\n",
    "    stiffness = constraints['stiffness']\n",
    "    stiffness_avg = stiffness.dot(odf)\n",
    "    stiffness_avg = stiffness_avg.reshape(6,6)\n",
    "    S = inv(stiffness_avg)\n",
    "    Ex = 1/S[0,0] \n",
    "    Gxy= 1/S[5,5]\n",
    "    return Ex,Gxy\n",
    "\n",
    "def getBendingFreq(Ex):\n",
    "    alphaSqr = pow(alphaL,2)\n",
    "    sqrroot = sqrt((Ex*Ix)/(mass*pow(L,4)))\n",
    "    w1b = (alphaSqr*sqrroot)/(2*pi)\n",
    "    return w1b\n",
    "\n",
    "def getTorsionalFreq(Gxy):\n",
    "    piPart = (pi/(2*L))\n",
    "    sqrroot = sqrt((Gxy*J)/(rhop*Ip))\n",
    "    w1t = (piPart*sqrroot)/(2*pi)\n",
    "    \n",
    "    return w1t\n",
    "    #w1t = ((pi/(2*L))*sqrt((Gxy*J)/(rhop*Ip)))/(2*pi);\n",
    "\n",
    "def getw1b(Ex):\n",
    "    return getBendingFreq(Ex)\n",
    "\n",
    "def getw1t(Gxy):\n",
    "    return getTorsionalFreq(Gxy)"
   ]
  },
  {
   "cell_type": "markdown",
   "metadata": {},
   "source": [
    "## Lower bound 2nd Constraint"
   ]
  },
  {
   "cell_type": "code",
   "execution_count": 36,
   "metadata": {
    "collapsed": false
   },
   "outputs": [],
   "source": [
    "Ex,Gxy = getModulusLower(odf)"
   ]
  },
  {
   "cell_type": "code",
   "execution_count": 16,
   "metadata": {
    "collapsed": false
   },
   "outputs": [
    {
     "data": {
      "text/plain": [
       "184.67919405244484"
      ]
     },
     "execution_count": 16,
     "metadata": {},
     "output_type": "execute_result"
    }
   ],
   "source": [
    "Ex"
   ]
  },
  {
   "cell_type": "code",
   "execution_count": 17,
   "metadata": {
    "collapsed": false
   },
   "outputs": [
    {
     "data": {
      "text/plain": [
       "92.772054652390381"
      ]
     },
     "execution_count": 17,
     "metadata": {},
     "output_type": "execute_result"
    }
   ],
   "source": [
    "Gxy"
   ]
  },
  {
   "cell_type": "code",
   "execution_count": 37,
   "metadata": {
    "collapsed": false
   },
   "outputs": [
    {
     "data": {
      "text/plain": [
       "112.66089477926977"
      ]
     },
     "execution_count": 37,
     "metadata": {},
     "output_type": "execute_result"
    }
   ],
   "source": [
    "getw1b(Ex)"
   ]
  },
  {
   "cell_type": "code",
   "execution_count": 38,
   "metadata": {
    "collapsed": false
   },
   "outputs": [
    {
     "data": {
      "text/plain": [
       "23.377775787781246"
      ]
     },
     "execution_count": 38,
     "metadata": {},
     "output_type": "execute_result"
    }
   ],
   "source": [
    "getw1t(Gxy)"
   ]
  },
  {
   "cell_type": "markdown",
   "metadata": {},
   "source": [
    "## Upper Bound Second Constraint"
   ]
  },
  {
   "cell_type": "code",
   "execution_count": 27,
   "metadata": {
    "collapsed": true
   },
   "outputs": [],
   "source": [
    "data = loadmat('data_pinar/maxOdf_Upper2.mat')\n",
    "odf = data['odf'][0]"
   ]
  },
  {
   "cell_type": "code",
   "execution_count": 30,
   "metadata": {
    "collapsed": false
   },
   "outputs": [],
   "source": [
    "Ex,Gxy = getModulusUpper(odf)"
   ]
  },
  {
   "cell_type": "code",
   "execution_count": 31,
   "metadata": {
    "collapsed": false
   },
   "outputs": [
    {
     "data": {
      "text/plain": [
       "153.31602168093713"
      ]
     },
     "execution_count": 31,
     "metadata": {},
     "output_type": "execute_result"
    }
   ],
   "source": [
    "Ex"
   ]
  },
  {
   "cell_type": "code",
   "execution_count": 32,
   "metadata": {
    "collapsed": false
   },
   "outputs": [
    {
     "data": {
      "text/plain": [
       "93.723593974324558"
      ]
     },
     "execution_count": 32,
     "metadata": {},
     "output_type": "execute_result"
    }
   ],
   "source": [
    "Gxy"
   ]
  },
  {
   "cell_type": "code",
   "execution_count": 33,
   "metadata": {
    "collapsed": false
   },
   "outputs": [
    {
     "data": {
      "text/plain": [
       "102.64977023304527"
      ]
     },
     "execution_count": 33,
     "metadata": {},
     "output_type": "execute_result"
    }
   ],
   "source": [
    "getw1b(Ex)"
   ]
  },
  {
   "cell_type": "code",
   "execution_count": 34,
   "metadata": {
    "collapsed": false
   },
   "outputs": [
    {
     "data": {
      "text/plain": [
       "23.497359878415857"
      ]
     },
     "execution_count": 34,
     "metadata": {},
     "output_type": "execute_result"
    }
   ],
   "source": [
    "getw1t(Gxy)"
   ]
  },
  {
   "cell_type": "markdown",
   "metadata": {},
   "source": [
    "### Volume fraction information "
   ]
  },
  {
   "cell_type": "code",
   "execution_count": 42,
   "metadata": {
    "collapsed": false
   },
   "outputs": [
    {
     "data": {
      "text/plain": [
       "array([ 0.0159823 ,  0.00818179,  0.00818179,  0.00818179,  0.00818179,\n",
       "        0.00818179,  0.00818179,  0.00613767,  0.00572646,  0.00572646,\n",
       "        0.00613767,  0.00572646,  0.00572646,  0.00572646,  0.00613767,\n",
       "        0.00572646,  0.00572646,  0.00572646,  0.00572646,  0.00572646,\n",
       "        0.00613767,  0.00572646,  0.00613767,  0.00572646,  0.00572646,\n",
       "        0.00572646,  0.00572646,  0.00572646,  0.00613767,  0.00613767,\n",
       "        0.00613767,  0.0037614 ,  0.0037614 ,  0.0037614 ,  0.00454084,\n",
       "        0.00454084,  0.00454084,  0.00454084,  0.00454084,  0.00454084,\n",
       "        0.00454084,  0.00454084,  0.00454084,  0.00454084,  0.00454084,\n",
       "        0.00454084,  0.00454084,  0.00454084,  0.00454084,  0.00454084,\n",
       "        0.00454084,  0.00454084,  0.00454084,  0.00454084,  0.00454084,\n",
       "        0.00454084,  0.00454084,  0.00454084,  0.00541192,  0.00495535,\n",
       "        0.00495535,  0.00541192,  0.00495535,  0.00541192,  0.00541192,\n",
       "        0.00541192,  0.00541192,  0.00541192,  0.00495535,  0.00541192,\n",
       "        0.00398198,  0.00398198,  0.00398198,  0.00398198,  0.00398198,\n",
       "        0.00398198])"
      ]
     },
     "execution_count": 42,
     "metadata": {},
     "output_type": "execute_result"
    }
   ],
   "source": [
    "vf = loadmat('volumefraction.mat')\n",
    "volFrac = vf['volumefraction'][0]\n",
    "volFrac"
   ]
  },
  {
   "cell_type": "code",
   "execution_count": 43,
   "metadata": {
    "collapsed": false
   },
   "outputs": [
    {
     "data": {
      "text/plain": [
       "76"
      ]
     },
     "execution_count": 43,
     "metadata": {},
     "output_type": "execute_result"
    }
   ],
   "source": [
    "len(volFrac)"
   ]
  }
 ],
 "metadata": {
  "anaconda-cloud": {},
  "kernelspec": {
   "display_name": "Python [conda root]",
   "language": "python",
   "name": "conda-root-py"
  },
  "language_info": {
   "codemirror_mode": {
    "name": "ipython",
    "version": 2
   },
   "file_extension": ".py",
   "mimetype": "text/x-python",
   "name": "python",
   "nbconvert_exporter": "python",
   "pygments_lexer": "ipython2",
   "version": "2.7.12"
  }
 },
 "nbformat": 4,
 "nbformat_minor": 1
}
