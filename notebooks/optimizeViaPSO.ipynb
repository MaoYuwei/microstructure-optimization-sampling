{
 "cells": [
  {
   "cell_type": "markdown",
   "metadata": {},
   "source": [
    "### PSO optimizes a problem by:\n",
    "### 1. having a population of candidate solutions, here dubbed particles\n",
    "### 2. moving these particles around in the search-space according to simple mathematical formulae. \n",
    "\n",
    "##### The movements of the particles are guided by the best found positions in the search-space which are updated as better positions are found by the particles."
   ]
  },
  {
   "cell_type": "code",
   "execution_count": 70,
   "metadata": {
    "collapsed": true
   },
   "outputs": [],
   "source": [
    "import operator\n",
    "import random\n",
    "import numpy\n",
    "\n",
    "from inspect import getsource\n",
    "#from dill.source import getsource\n",
    "\n",
    "from deap import base\n",
    "from deap import benchmarks\n",
    "from deap import creator\n",
    "from deap import tools"
   ]
  },
  {
   "cell_type": "code",
   "execution_count": 48,
   "metadata": {
    "collapsed": true
   },
   "outputs": [],
   "source": [
    "t1=linspace(-50,50,100)\n",
    "sig1=sin(t1/2)+np.random.normal(scale=0.1,size=len(t1))\n",
    "sig2=sin(t1/2)+np.random.normal(scale=0.1,size=len(t1))\n",
    "\n",
    "\n",
    "f0=interp1d(t1,sig1,kind=\"cubic\",bounds_error=False,fill_value=-10000)\n",
    "g=interp1d(t1,sig2,kind=\"cubic\",bounds_error=False,fill_value=10000)\n",
    "#true value that  I would like to estimate\n",
    "A=2\n",
    "B=0.8\n",
    "C=0\n",
    "\n",
    "Ig=arange(t1.min(),t1.max(),1)\n",
    "If=(Ig-A)/B\n",
    "I_min=max(If.min(),Ig.min())\n",
    "I_max=min(If.max(),Ig.max())\n",
    "\n",
    "\n",
    "J=linspace(min(If.min(),Ig.min()),max(If.max(),Ig.max()))\n",
    "I=linspace(I_min,I_max,1000)  "
   ]
  },
  {
   "cell_type": "markdown",
   "metadata": {},
   "source": [
    "### Functions to maximize (or minimize)"
   ]
  },
  {
   "cell_type": "code",
   "execution_count": 49,
   "metadata": {
    "collapsed": true
   },
   "outputs": [],
   "source": [
    "def s(t):\n",
    "    return A+B*t+C*t*t\n",
    "\n",
    "def inv_s(t):\n",
    "    return (t-B)/A\n",
    "\n",
    "def f(t):\n",
    "    return f0(s(t))\n",
    "\n",
    "def hat_s(t,a,b):\n",
    "    return t*b+a\n",
    "\n",
    "def cost(x,T=I):\n",
    "    a=x[0]\n",
    "    b=x[1]\n",
    "    return norm(g(b*T+a)-f(T))/len(T),"
   ]
  },
  {
   "cell_type": "markdown",
   "metadata": {},
   "source": [
    "### PSO particles are essentially described as a positions in a search-space of D dimensions\n",
    "\n",
    "##### Each particle also has a vector representing the speed of the particle in each dimension. Finally, each particle keeps a reference to the best state in which it has been so far.\n",
    "\n",
    "#### 1. We want to maximise the value of the fitness of our particles -> \"FitnessMax\"\n",
    "#### 2. The second object \"Particle\" we create represent our particle. We defined it as a list to which we add five attributes. The first attribute is the fitness of the particle, the second is the speed of the particle which is also goind to be a list, the third and fourth are the limit of the speed value, and the fifth attribute will be a reference to a copy of the best state the particle has been so far."
   ]
  },
  {
   "cell_type": "code",
   "execution_count": 36,
   "metadata": {
    "collapsed": true
   },
   "outputs": [],
   "source": [
    "creator.create(\"FitnessMax\", base.Fitness, weights=(-1.0,))\n",
    "creator.create(\"Particle\", list, fitness=creator.FitnessMax, speed=list, \n",
    "    smin=None, smax=None, best=None)"
   ]
  },
  {
   "cell_type": "markdown",
   "metadata": {},
   "source": [
    "### PSO original algorithm use three operators : initializer, updater and evaluator.\n",
    "\n",
    "\n",
    "#### The initialization \"generate\" consist in generating a random position and a random speed for a particle."
   ]
  },
  {
   "cell_type": "code",
   "execution_count": 37,
   "metadata": {
    "collapsed": true
   },
   "outputs": [],
   "source": [
    "def generate(size, pmin, pmax, smin, smax):\n",
    "    part = creator.Particle(random.uniform(pmin, pmax) for _ in range(size)) \n",
    "    part.speed = [random.uniform(smin, smax) for _ in range(size)]\n",
    "    part.smin = smin\n",
    "    part.smax = smax\n",
    "    return part"
   ]
  },
  {
   "cell_type": "markdown",
   "metadata": {},
   "source": [
    "### The function updateParticle() :\n",
    "#### 1. First computes the speed\n",
    "#### 2. Limits the speed values between smin and smax\n",
    "#### 3. Finally computes the new particle position."
   ]
  },
  {
   "cell_type": "code",
   "execution_count": 38,
   "metadata": {
    "collapsed": false
   },
   "outputs": [],
   "source": [
    "def updateParticle(part, best, phi1, phi2):\n",
    "    u1 = (random.uniform(0, phi1) for _ in range(len(part)))\n",
    "    u2 = (random.uniform(0, phi2) for _ in range(len(part)))\n",
    "    v_u1 = map(operator.mul, u1, map(operator.sub, part.best, part))\n",
    "    v_u2 = map(operator.mul, u2, map(operator.sub, best, part))\n",
    "    part.speed = list(map(operator.add, part.speed, map(operator.add, v_u1, v_u2)))\n",
    "    for i, speed in enumerate(part.speed):\n",
    "        if speed < part.smin:\n",
    "            part.speed[i] = part.smin\n",
    "        elif speed > part.smax:\n",
    "            part.speed[i] = part.smax\n",
    "    part[:] = list(map(operator.add, part, part.speed))\n"
   ]
  },
  {
   "cell_type": "markdown",
   "metadata": {},
   "source": [
    "### Evaluation"
   ]
  },
  {
   "cell_type": "code",
   "execution_count": 39,
   "metadata": {
    "collapsed": true
   },
   "outputs": [],
   "source": [
    "toolbox = base.Toolbox()\n",
    "toolbox.register(\"particle\", generate, size=2, pmin=-6, pmax=6, smin=-3, smax=3)\n",
    "toolbox.register(\"population\", tools.initRepeat, list, toolbox.particle)\n",
    "toolbox.register(\"update\", updateParticle, phi1=2.0, phi2=2.0)\n",
    "toolbox.register(\"evaluate\", cost)"
   ]
  },
  {
   "cell_type": "code",
   "execution_count": 46,
   "metadata": {
    "collapsed": true
   },
   "outputs": [],
   "source": [
    "def setParams():\n",
    "    \n",
    "    print pop"
   ]
  },
  {
   "cell_type": "code",
   "execution_count": 47,
   "metadata": {
    "collapsed": false
   },
   "outputs": [
    {
     "name": "stdout",
     "output_type": "stream",
     "text": [
      "[[1.4432189486722136, -4.491471511744211], [-5.168306710094598, 0.7910756420513891], [-2.3482861214654402, 0.7612051262119408], [-4.128916521830329, 3.9533538621952964], [-5.236390392948599, 0.8237296460232608]]\n"
     ]
    }
   ],
   "source": [
    "setParams()"
   ]
  },
  {
   "cell_type": "markdown",
   "metadata": {},
   "source": [
    "### Create new population and Optimize"
   ]
  },
  {
   "cell_type": "code",
   "execution_count": 62,
   "metadata": {
    "collapsed": true
   },
   "outputs": [],
   "source": [
    "def optimize(numPoints,numIter):\n",
    "   \n",
    "    pop = toolbox.population(n=numPoints)\n",
    "    stats = tools.Statistics(lambda ind: ind.fitness.values)\n",
    "    stats.register(\"avg\", numpy.mean)\n",
    "    stats.register(\"std\", numpy.std)\n",
    "    stats.register(\"min\", numpy.min)\n",
    "    stats.register(\"max\", numpy.max)\n",
    "\n",
    "    logbook = tools.Logbook()\n",
    "    logbook.header = [\"gen\", \"evals\"] + stats.fields\n",
    "\n",
    "    GEN = numIter\n",
    "    best = None\n",
    "    \n",
    "    for g in range(GEN):\n",
    "        for part in pop:\n",
    "            part.fitness.values = toolbox.evaluate(part)\n",
    "            print part.fitness.values\n",
    "#             if not part.best or part.best.fitness < part.fitness:\n",
    "#                 part.best = creator.Particle(part)\n",
    "#                 part.best.fitness.values = part.fitness.values\n",
    "#             if not best or best.fitness < part.fitness:\n",
    "#                 best = creator.Particle(part)\n",
    "#                 best.fitness.values = part.fitness.values\n",
    "#         for part in pop:\n",
    "#             toolbox.update(part, best)\n",
    "\n",
    "#         # Gather all the fitnesses in one list and print the stats\n",
    "#         logbook.record(gen=g, evals=len(pop), **stats.compile(pop))\n",
    "#         print(logbook.stream)\n",
    "#         print \"  Best so far: %s - %s\" % (best, best.fitness)\n",
    "\n",
    "#     return pop, logbook, best\n"
   ]
  },
  {
   "cell_type": "code",
   "execution_count": 63,
   "metadata": {
    "collapsed": false
   },
   "outputs": [
    {
     "name": "stdout",
     "output_type": "stream",
     "text": [
      "(248.79608691668255,)\n",
      "(194.67723266822469,)\n"
     ]
    }
   ],
   "source": [
    "optimize(2,1) #pop,logbook,best= optimize()\n",
    "# print \"best=\",best,\"A,B=\",(A,B)"
   ]
  },
  {
   "cell_type": "code",
   "execution_count": 64,
   "metadata": {
    "collapsed": false
   },
   "outputs": [
    {
     "name": "stdout",
     "output_type": "stream",
     "text": [
      "[-0.5366073372687192, 1.3932321643488068]\n"
     ]
    },
    {
     "ename": "ValueError",
     "evalue": "operands could not be broadcast together with shapes (2,) (1000,) ",
     "output_type": "error",
     "traceback": [
      "\u001b[0;31m---------------------------------------------------------------------------\u001b[0m",
      "\u001b[0;31mValueError\u001b[0m                                Traceback (most recent call last)",
      "\u001b[0;32m<ipython-input-64-f6bc23b6c354>\u001b[0m in \u001b[0;36m<module>\u001b[0;34m()\u001b[0m\n\u001b[1;32m      1\u001b[0m \u001b[0;32mprint\u001b[0m \u001b[0mpop\u001b[0m\u001b[0;34m[\u001b[0m\u001b[0;36m0\u001b[0m\u001b[0;34m]\u001b[0m\u001b[0;34m\u001b[0m\u001b[0m\n\u001b[0;32m----> 2\u001b[0;31m \u001b[0mcost\u001b[0m\u001b[0;34m(\u001b[0m\u001b[0mpop\u001b[0m\u001b[0;34m)\u001b[0m\u001b[0;34m\u001b[0m\u001b[0m\n\u001b[0m",
      "\u001b[0;32m<ipython-input-49-783fd7752376>\u001b[0m in \u001b[0;36mcost\u001b[0;34m(x, T)\u001b[0m\n\u001b[1;32m     14\u001b[0m     \u001b[0ma\u001b[0m\u001b[0;34m=\u001b[0m\u001b[0mx\u001b[0m\u001b[0;34m[\u001b[0m\u001b[0;36m0\u001b[0m\u001b[0;34m]\u001b[0m\u001b[0;34m\u001b[0m\u001b[0m\n\u001b[1;32m     15\u001b[0m     \u001b[0mb\u001b[0m\u001b[0;34m=\u001b[0m\u001b[0mx\u001b[0m\u001b[0;34m[\u001b[0m\u001b[0;36m1\u001b[0m\u001b[0;34m]\u001b[0m\u001b[0;34m\u001b[0m\u001b[0m\n\u001b[0;32m---> 16\u001b[0;31m     \u001b[0;32mreturn\u001b[0m \u001b[0mnorm\u001b[0m\u001b[0;34m(\u001b[0m\u001b[0mg\u001b[0m\u001b[0;34m(\u001b[0m\u001b[0mb\u001b[0m\u001b[0;34m*\u001b[0m\u001b[0mT\u001b[0m\u001b[0;34m+\u001b[0m\u001b[0ma\u001b[0m\u001b[0;34m)\u001b[0m\u001b[0;34m-\u001b[0m\u001b[0mf\u001b[0m\u001b[0;34m(\u001b[0m\u001b[0mT\u001b[0m\u001b[0;34m)\u001b[0m\u001b[0;34m)\u001b[0m\u001b[0;34m/\u001b[0m\u001b[0mlen\u001b[0m\u001b[0;34m(\u001b[0m\u001b[0mT\u001b[0m\u001b[0;34m)\u001b[0m\u001b[0;34m,\u001b[0m\u001b[0;34m\u001b[0m\u001b[0m\n\u001b[0m",
      "\u001b[0;31mValueError\u001b[0m: operands could not be broadcast together with shapes (2,) (1000,) "
     ]
    }
   ],
   "source": [
    "print pop[0]\n",
    "cost(pop)"
   ]
  },
  {
   "cell_type": "code",
   "execution_count": 73,
   "metadata": {
    "collapsed": false
   },
   "outputs": [
    {
     "ename": "NameError",
     "evalue": "name 'evaluate' is not defined",
     "output_type": "error",
     "traceback": [
      "\u001b[0;31m---------------------------------------------------------------------------\u001b[0m",
      "\u001b[0;31mNameError\u001b[0m                                 Traceback (most recent call last)",
      "\u001b[0;32m<ipython-input-73-fb4998765559>\u001b[0m in \u001b[0;36m<module>\u001b[0;34m()\u001b[0m\n\u001b[0;32m----> 1\u001b[0;31m \u001b[0;32mprint\u001b[0m \u001b[0mgetsource\u001b[0m\u001b[0;34m(\u001b[0m\u001b[0mevaluate\u001b[0m\u001b[0;34m)\u001b[0m\u001b[0;34m\u001b[0m\u001b[0m\n\u001b[0m",
      "\u001b[0;31mNameError\u001b[0m: name 'evaluate' is not defined"
     ]
    }
   ],
   "source": [
    "print getsource(evaluate)"
   ]
  }
 ],
 "metadata": {
  "kernelspec": {
   "display_name": "Python 2",
   "language": "python",
   "name": "python2"
  },
  "language_info": {
   "codemirror_mode": {
    "name": "ipython",
    "version": 2
   },
   "file_extension": ".py",
   "mimetype": "text/x-python",
   "name": "python",
   "nbconvert_exporter": "python",
   "pygments_lexer": "ipython2",
   "version": "2.7.11"
  }
 },
 "nbformat": 4,
 "nbformat_minor": 0
}
