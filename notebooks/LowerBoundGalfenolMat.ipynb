{
 "cells": [
  {
   "cell_type": "code",
   "execution_count": 8,
   "metadata": {
    "collapsed": true
   },
   "outputs": [],
   "source": [
    "load compliance.mat\n",
    "load volumefraction.mat"
   ]
  },
  {
   "cell_type": "code",
   "execution_count": 4,
   "metadata": {
    "collapsed": false
   },
   "outputs": [],
   "source": [
    "best = load('myOdf1.mat');\n",
    "odf = best.odf;\n",
    "odf = odf';"
   ]
  },
  {
   "cell_type": "code",
   "execution_count": 21,
   "metadata": {
    "collapsed": false
   },
   "outputs": [
    {
     "name": "stdout",
     "output_type": "stream",
     "text": [
      "odf =\n",
      "\n",
      "  Columns 1 through 7\n",
      "\n",
      "    0.0004    0.0000    0.0000    3.2846    0.0000    0.0000    0.0000\n",
      "\n",
      "  Columns 8 through 14\n",
      "\n",
      "    0.0003    0.0001   13.2659    0.0000    0.0471    0.0000    0.0000\n",
      "\n",
      "  Columns 15 through 21\n",
      "\n",
      "    0.0000    0.0000    0.0774    0.0000    0.4031    0.0000    0.0000\n",
      "\n",
      "  Columns 22 through 28\n",
      "\n",
      "    0.0000    0.3145    0.0004    0.0053    0.0000    0.0827    0.0000\n",
      "\n",
      "  Columns 29 through 35\n",
      "\n",
      "    0.0000    0.0007    3.1688    0.0019    0.0005    0.0000    0.0000\n",
      "\n",
      "  Columns 36 through 42\n",
      "\n",
      "    9.5742    0.0000    0.0000    0.0000    0.0003    0.0000    0.0272\n",
      "\n",
      "  Columns 43 through 49\n",
      "\n",
      "    0.0000    0.1961    0.0000    0.0000    0.0000   52.8351    0.0000\n",
      "\n",
      "  Columns 50 through 56\n",
      "\n",
      "    0.0000    0.3218    0.0020    0.0000    0.0000    0.0095    0.0000\n",
      "\n",
      "  Columns 57 through 63\n",
      "\n",
      "    0.0000    0.0000    0.0000    0.0000    0.0001   22.7865    0.0152\n",
      "\n",
      "  Columns 64 through 70\n",
      "\n",
      "    0.0000    0.2094    0.0033    4.2573   33.9820   48.4229    0.0000\n",
      "\n",
      "  Columns 71 through 76\n",
      "\n",
      "    0.1578    3.3906    0.0000    0.0000    0.1841    0.0000\n"
     ]
    }
   ],
   "source": [
    "sample = load('data_first5Generator_50.mat');\n",
    "odfs= sample.odfs(1,:);\n",
    "odf = odfs(1:76)"
   ]
  },
  {
   "cell_type": "code",
   "execution_count": 22,
   "metadata": {
    "collapsed": false
   },
   "outputs": [
    {
     "name": "stdout",
     "output_type": "stream",
     "text": [
      "ans =\n",
      "\n",
      "    0.0042\n",
      "   -0.0014\n",
      "   -0.0010\n",
      "         0\n",
      "         0\n",
      "         0\n",
      "   -0.0014\n",
      "    0.0048\n",
      "   -0.0016\n",
      "         0\n",
      "         0\n",
      "         0\n",
      "   -0.0010\n",
      "   -0.0016\n",
      "    0.0045\n",
      "         0\n",
      "         0\n",
      "         0\n",
      "         0\n",
      "         0\n",
      "         0\n",
      "    0.0129\n",
      "         0\n",
      "         0\n",
      "         0\n",
      "         0\n",
      "         0\n",
      "         0\n",
      "    0.0167\n",
      "         0\n",
      "         0\n",
      "         0\n",
      "         0\n",
      "         0\n",
      "         0\n",
      "    0.0113\n"
     ]
    }
   ],
   "source": [
    "compliance*odf'"
   ]
  },
  {
   "cell_type": "code",
   "execution_count": 23,
   "metadata": {
    "collapsed": false
   },
   "outputs": [],
   "source": [
    "%odf = zeros(76,1); % 76 independent ODF parameters \n",
    "\n",
    "\n",
    "% An example ODF case (not optimum) -- volumefraction*odf = 1\n",
    "%odf(1) = 1/volumefraction(1,1);\n",
    " %volumefraction*odf\n",
    "%odf = load('bestSolution.mat');\n",
    "% Computation of Structural Parameters\n",
    "S = reshape(compliance*odf',6,6); % Compliance matrix\n",
    "S11 = S(1,1);\n",
    "Ex = 1/S11; % Young's modulus\n",
    "S66 = S(6,6);\n",
    "Gxy = 1/S66; % Shear modulus\n"
   ]
  },
  {
   "cell_type": "code",
   "execution_count": 24,
   "metadata": {
    "collapsed": false
   },
   "outputs": [],
   "source": [
    "% Yield Stress\n",
    "load('linprog_a_yield.mat');\n",
    "f1 = y; %yield stress data\n",
    "yield_stress = f1'*odf';  % Yield stress averaging\n",
    "\n",
    "% Geometric Properties of the Beam\n",
    "%a = 0.003;  % cross-section length\n",
    "%b = 0.02; % cross-section width\n",
    "a = 3;\n",
    "b = 20;\n",
    "L = 0.45; % length of the beam\n",
    "\n",
    "I = (b*(a^3))/12; % moment of inertia in longitidunal direction\n"
   ]
  },
  {
   "cell_type": "code",
   "execution_count": 25,
   "metadata": {
    "collapsed": false
   },
   "outputs": [],
   "source": [
    "% Torsion constant needs iteration\n",
    "beta1 = 0.299;\n",
    "beta2 = 0.312;\n",
    "r1 = 6;\n",
    "r2 = 10;\n",
    "r = 6.67;\n",
    "rat = (10-r)/(r-r1);\n",
    "beta = (beta2+(beta1*rat))/(rat+1);\n",
    "J = beta*a*(b^3); % torsion constant for natural frequency\n",
    "\n",
    "% Inertia moment computation\n",
    "Iy = (a*(b^3))/12;\n",
    "Ix = (b*(a^3))/12;\n",
    "mass = 5; % kg mass\n",
    "Ip = Ix + Iy;  % Polar moment of inertia\n",
    "A = a*b;  % Area of the rectangle cross-section\n",
    "rhop = mass/(A*L);  % Mass per unit volume\n",
    "\n",
    "\n",
    "% Bending Frequency Equations\n",
    "alphaL = 1.87510;\n"
   ]
  },
  {
   "cell_type": "code",
   "execution_count": 19,
   "metadata": {
    "collapsed": false
   },
   "outputs": [
    {
     "name": "stdout",
     "output_type": "stream",
     "text": [
      "Gxy =\n",
      "\n",
      "   75.1783\n",
      "\n",
      "\n",
      "J =\n",
      "\n",
      "   7.2283e+03\n",
      "\n",
      "\n",
      "rhop =\n",
      "\n",
      "    0.1852\n",
      "\n",
      "\n",
      "Ip =\n",
      "\n",
      "        2045\n",
      "\n",
      "\n",
      "L =\n",
      "\n",
      "    0.4500\n"
     ]
    }
   ],
   "source": [
    "Gxy,J,rhop,Ip,L"
   ]
  },
  {
   "cell_type": "code",
   "execution_count": 26,
   "metadata": {
    "collapsed": true
   },
   "outputs": [],
   "source": [
    "w1b = ((alphaL^2)*sqrt((Ex*Ix)/(mass*(L^4))))/(2*pi);  % 1st bending frequency in Hz\n",
    "\n",
    "% Torsional Frequency Equations\n",
    "w1t = ((pi/(2*L))*sqrt((Gxy*J)/(rhop*Ip)))/(2*pi);  % 1st torsional frequency in Hz"
   ]
  },
  {
   "cell_type": "code",
   "execution_count": 27,
   "metadata": {
    "collapsed": false
   },
   "outputs": [
    {
     "name": "stdout",
     "output_type": "stream",
     "text": [
      "w1b =\n",
      "\n",
      "  127.8312\n",
      "\n",
      "\n",
      "w1t =\n",
      "\n",
      "   22.8497\n"
     ]
    }
   ],
   "source": [
    "w1b,w1t"
   ]
  },
  {
   "cell_type": "code",
   "execution_count": 29,
   "metadata": {
    "collapsed": true
   },
   "outputs": [],
   "source": [
    "if w1t<21.5 || w1t>23.5 || w1b>114 ||w1b<100\n",
    "% if w1t<19.5 || w1t>21.5||w1b>122.5||w1b<120\n",
    "    opt = 10000;\n",
    "end"
   ]
  },
  {
   "cell_type": "code",
   "execution_count": 30,
   "metadata": {
    "collapsed": false
   },
   "outputs": [
    {
     "name": "stdout",
     "output_type": "stream",
     "text": [
      "opt =\n",
      "\n",
      "       10000\n"
     ]
    }
   ],
   "source": [
    "opt"
   ]
  },
  {
   "cell_type": "code",
   "execution_count": 28,
   "metadata": {
    "collapsed": false
   },
   "outputs": [
    {
     "name": "stdout",
     "output_type": "stream",
     "text": [
      "yield_stress =\n",
      "\n",
      "  335.0719\n"
     ]
    }
   ],
   "source": [
    "yield_stress"
   ]
  },
  {
   "cell_type": "code",
   "execution_count": null,
   "metadata": {
    "collapsed": true
   },
   "outputs": [],
   "source": [
    "data1 = load('data1/data_SmallPartition10_1000000.mat')\n",
    "data1"
   ]
  },
  {
   "cell_type": "code",
   "execution_count": null,
   "metadata": {
    "collapsed": false
   },
   "outputs": [],
   "source": [
    "odfs = load('data_first5Generator_100.mat');\n",
    "odfs.odfs"
   ]
  },
  {
   "cell_type": "code",
   "execution_count": 9,
   "metadata": {
    "collapsed": false
   },
   "outputs": [
    {
     "name": "stdout",
     "output_type": "stream",
     "text": [
      "ans =\n",
      "\n",
      "    22    42    71\n"
     ]
    }
   ],
   "source": [
    "randperm(76,3)"
   ]
  },
  {
   "cell_type": "code",
   "execution_count": 1,
   "metadata": {
    "collapsed": false
   },
   "outputs": [
    {
     "name": "stderr",
     "output_type": "stream",
     "text": [
      "\u001b[0;31mUndefined function or variable 'patternsearch'.\n",
      "\u001b[0m"
     ]
    }
   ],
   "source": [
    "patternsearch()"
   ]
  }
 ],
 "metadata": {
  "anaconda-cloud": {},
  "kernelspec": {
   "display_name": "Matlab",
   "language": "matlab",
   "name": "matlab"
  },
  "language_info": {
   "codemirror_mode": "octave",
   "file_extension": ".m",
   "help_links": [
    {
     "text": "MetaKernel Magics",
     "url": "https://github.com/calysto/metakernel/blob/master/metakernel/magics/README.md"
    }
   ],
   "mimetype": "text/x-octave",
   "name": "matlab",
   "version": "0.11.0"
  }
 },
 "nbformat": 4,
 "nbformat_minor": 1
}
